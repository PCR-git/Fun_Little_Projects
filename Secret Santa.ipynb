{
 "cells": [
  {
   "cell_type": "markdown",
   "id": "fdf20a6f",
   "metadata": {},
   "source": [
    "## Secret Santa"
   ]
  },
  {
   "cell_type": "markdown",
   "id": "9d7d84cd",
   "metadata": {},
   "source": [
    "Given a fully-connected graph with $N$ nodes, we run DFS, keeping track of every path of length $N$ to get the set of all possible cycles. We then uniformly sample from the set of cycles."
   ]
  },
  {
   "cell_type": "code",
   "execution_count": 45,
   "id": "77915e00",
   "metadata": {},
   "outputs": [],
   "source": [
    "import numpy as np\n",
    "import math"
   ]
  },
  {
   "cell_type": "code",
   "execution_count": 186,
   "id": "81730bc8",
   "metadata": {},
   "outputs": [],
   "source": [
    "# Get the out neighbors of vertex v in graph G\n",
    "def f_get_out_neighbors(v,G):\n",
    "  out_v = np.where(G[v,:]>0)[0] # Edges out of v\n",
    "  return out_v\n",
    "\n",
    "# Depth First Search\n",
    "def DFS_backtrack(N,G,start_node=0,max_its=np.Infinity):\n",
    "\n",
    "    candidates = np.arange(N)\n",
    "    num_backtracks = np.zeros(N)\n",
    "    stack = np.array([start_node])\n",
    "    num_its = 0\n",
    "    paths = np.zeros(N)\n",
    "\n",
    "    while len(stack) > 0 and num_its < max_its:\n",
    "        num_its += 1\n",
    "        current_node = int(stack[-1])\n",
    "        unvisited = np.setdiff1d(candidates,stack)\n",
    "        num_backtracks[unvisited] = 0\n",
    "\n",
    "        out_neighbors = f_get_out_neighbors(current_node,G)\n",
    "        unvisited_neighbors = np.intersect1d(out_neighbors,unvisited)\n",
    "\n",
    "        next_node_idx = int(num_backtracks[current_node])\n",
    "        if len(unvisited_neighbors) > 0 and next_node_idx < len(unvisited_neighbors):\n",
    "            next_node = unvisited_neighbors[next_node_idx]\n",
    "            stack = np.append(stack,next_node)\n",
    "        else:\n",
    "            if len(unvisited_neighbors) == 0:\n",
    "                if len(stack) == N:\n",
    "                    paths = np.vstack((paths,stack))\n",
    "\n",
    "            unvisited = stack[-1:]\n",
    "            node_idx = np.where(stack == unvisited)[0]\n",
    "            stack = np.delete(stack,node_idx)\n",
    "\n",
    "            if len(stack) == 0:\n",
    "                break\n",
    "\n",
    "            current_node = int(stack[-1])\n",
    "            num_backtracks[current_node] += 1\n",
    "    \n",
    "    bad_end_idxs = np.where(not_allowed[:,0]==start_node)[0]\n",
    "    bad_idxs = not_allowed[bad_end_idxs,:][:,1]\n",
    "\n",
    "    bad_rows = np.array([])\n",
    "    for bad_idx in bad_idxs:\n",
    "        bad_rows_i = np.where(paths[1:,-1] == bad_idx)[0]\n",
    "        bad_rows = np.concatenate((bad_rows,bad_rows_i)).astype(int)\n",
    "\n",
    "    valid_paths = np.delete(paths[1:,:], obj=bad_rows, axis=0)\n",
    "    \n",
    "    return valid_paths.astype(int)"
   ]
  },
  {
   "cell_type": "code",
   "execution_count": 187,
   "id": "769062fc",
   "metadata": {},
   "outputs": [],
   "source": [
    "santa_list = np.array(['Emily', 'Hiro', 'Avery', 'Anna', 'Rose'])\n",
    "not_allowed = np.array([[0,1], [2,3]])\n",
    "\n",
    "# Get the Secret Santa assignments\n",
    "def f_Secret_Santa(santa_list,not_allowed):\n",
    "\n",
    "    N = len(santa_list)\n",
    "    santas = np.arange(N)\n",
    "    \n",
    "    flipd = np.flip(not_allowed,axis=1)\n",
    "    not_allowed = np.concatenate((not_allowed,flipd))\n",
    "    \n",
    "    transition = np.ones((N,N))\n",
    "    \n",
    "    for i in np.arange(N):\n",
    "        transition[i,i] = 0\n",
    "\n",
    "    for i in np.arange(len(not_allowed)):\n",
    "        transition[not_allowed[i,0],not_allowed[i,1]] = 0\n",
    "\n",
    "    valid_paths = DFS_backtrack(N,transition)\n",
    "    num_paths = np.shape(valid_paths)[0]\n",
    "    \n",
    "    return valid_paths, num_paths"
   ]
  },
  {
   "cell_type": "code",
   "execution_count": 192,
   "id": "4d470c48",
   "metadata": {},
   "outputs": [
    {
     "name": "stdout",
     "output_type": "stream",
     "text": [
      "Number of valid assignments = 8\n",
      "Valid assignments:\n",
      "[['Emily' 'Avery' 'Hiro' 'Anna' 'Rose']\n",
      " ['Emily' 'Avery' 'Hiro' 'Rose' 'Anna']\n",
      " ['Emily' 'Avery' 'Rose' 'Hiro' 'Anna']\n",
      " ['Emily' 'Anna' 'Hiro' 'Avery' 'Rose']\n",
      " ['Emily' 'Anna' 'Hiro' 'Rose' 'Avery']\n",
      " ['Emily' 'Anna' 'Rose' 'Hiro' 'Avery']\n",
      " ['Emily' 'Rose' 'Avery' 'Hiro' 'Anna']\n",
      " ['Emily' 'Rose' 'Anna' 'Hiro' 'Avery']]\n",
      "Secret Santa Assignments: ['Emily' 'Anna' 'Rose' 'Hiro' 'Avery']\n"
     ]
    }
   ],
   "source": [
    "santa_list = np.array(['Emily', 'Hiro', 'Avery', 'Anna', 'Rose'])\n",
    "not_allowed = np.array([[0,1], [2,3]])\n",
    "\n",
    "valid_paths, num_paths = f_Secret_Santa(santa_list,not_allowed)\n",
    "\n",
    "print('Number of valid assignments =', num_paths)\n",
    "\n",
    "print('Valid assignments:')\n",
    "print(santa_list[valid_paths])\n",
    "\n",
    "random_path_row = np.random.choice(np.arange(num_paths))\n",
    "random_path = valid_paths[random_path_row,:]\n",
    "print('Secret Santa Assignments:', santa_list[random_path])"
   ]
  },
  {
   "cell_type": "code",
   "execution_count": null,
   "id": "3f932838",
   "metadata": {},
   "outputs": [],
   "source": [
    "# ['Emily' 'Anna' 'Rose' 'Hiro' 'Avery'] (Christmas 2023)"
   ]
  },
  {
   "cell_type": "code",
   "execution_count": 189,
   "id": "2859429c",
   "metadata": {},
   "outputs": [
    {
     "name": "stdout",
     "output_type": "stream",
     "text": [
      "Number of valid paths = 9792\n",
      "Valid paths:\n",
      "[['Emily' 'Avery' 'Hiro' ... 'Wendy' 'James' 'Papa Jitsumasa']\n",
      " ['Emily' 'Avery' 'Hiro' ... 'Papa Jitsumasa' 'James' 'Wendy']\n",
      " ['Emily' 'Avery' 'Hiro' ... 'Wendy' 'Peter' 'Papa Jitsumasa']\n",
      " ...\n",
      " ['Emily' 'Papa Jitsumasa' 'James' ... 'Rose' 'Hiro' 'Avery']\n",
      " ['Emily' 'Papa Jitsumasa' 'James' ... 'Avery' 'Hiro' 'Anna']\n",
      " ['Emily' 'Papa Jitsumasa' 'James' ... 'Anna' 'Hiro' 'Avery']]\n",
      "Secret Santa Assignments: ['Emily' 'Wendy' 'Avery' 'Hiro' 'Papa Jitsumasa' 'Rose' 'Peter' 'Anna'\n",
      " 'James']\n"
     ]
    }
   ],
   "source": [
    "santa_list = np.array(['Emily', 'Hiro', 'Avery', 'Anna', 'Rose', 'Peter', 'James', 'Wendy', 'Papa Jitsumasa'])\n",
    "not_allowed = np.array([[0,1], [2,3], [1,6], [7,8], [0,5]])\n",
    "\n",
    "valid_paths, num_paths = f_Secret_Santa(santa_list,not_allowed)\n",
    "\n",
    "print('Number of valid paths =', num_paths)\n",
    "\n",
    "print('Valid paths:')\n",
    "print(santa_list[valid_paths])\n",
    "\n",
    "random_path_row = np.random.choice(np.arange(num_paths))\n",
    "random_path = valid_paths[random_path_row,:]\n",
    "print('Secret Santa Assignments:', santa_list[random_path])"
   ]
  }
 ],
 "metadata": {
  "kernelspec": {
   "display_name": "Python 3 (ipykernel)",
   "language": "python",
   "name": "python3"
  },
  "language_info": {
   "codemirror_mode": {
    "name": "ipython",
    "version": 3
   },
   "file_extension": ".py",
   "mimetype": "text/x-python",
   "name": "python",
   "nbconvert_exporter": "python",
   "pygments_lexer": "ipython3",
   "version": "3.11.5"
  }
 },
 "nbformat": 4,
 "nbformat_minor": 5
}
